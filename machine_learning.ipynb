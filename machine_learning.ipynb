{
 "cells": [
  {
   "cell_type": "code",
   "execution_count": 1,
   "metadata": {},
   "outputs": [],
   "source": [
    "# Main Imports\n",
    "import numpy as np # Arrays\n",
    "import pandas as pd # Dataframes\n",
    "import sqlite3 # SQL databases\n",
    "\n",
    "# Utilities\n",
    "import joblib\n",
    "\n",
    "# Helpers\n",
    "from helpers import tokenise"
   ]
  },
  {
   "cell_type": "code",
   "execution_count": 2,
   "metadata": {},
   "outputs": [],
   "source": [
    "conn = sqlite3.connect(\"tweets.db\")\n",
    "labelled_tweets = pd.read_sql_query(\"SELECT * FROM tweets WHERE notify IS NOT NULL\", conn)\n",
    "conn.close()"
   ]
  },
  {
   "cell_type": "code",
   "execution_count": 3,
   "metadata": {},
   "outputs": [
    {
     "data": {
      "text/html": "<div>\n<style scoped>\n    .dataframe tbody tr th:only-of-type {\n        vertical-align: middle;\n    }\n\n    .dataframe tbody tr th {\n        vertical-align: top;\n    }\n\n    .dataframe thead th {\n        text-align: right;\n    }\n</style>\n<table border=\"1\" class=\"dataframe\">\n  <thead>\n    <tr style=\"text-align: right;\">\n      <th></th>\n      <th>id</th>\n      <th>author</th>\n      <th>content</th>\n      <th>has_link</th>\n      <th>has_video</th>\n      <th>has_image</th>\n      <th>is_reply</th>\n      <th>is_retweet</th>\n      <th>is_quote_rt</th>\n      <th>notify</th>\n    </tr>\n  </thead>\n  <tbody>\n    <tr>\n      <th>0</th>\n      <td>1192437222953431040</td>\n      <td>483510314</td>\n      <td>Peaceful Platypus Adopt! 😊❤️👀\\n(Includes trans...</td>\n      <td>False</td>\n      <td>False</td>\n      <td>True</td>\n      <td>False</td>\n      <td>False</td>\n      <td>False</td>\n      <td>True</td>\n    </tr>\n    <tr>\n      <th>1</th>\n      <td>1192437932365246464</td>\n      <td>504501220</td>\n      <td>Oh shoot there were peanuts in my dinner; look...</td>\n      <td>False</td>\n      <td>False</td>\n      <td>False</td>\n      <td>False</td>\n      <td>False</td>\n      <td>False</td>\n      <td>False</td>\n    </tr>\n    <tr>\n      <th>2</th>\n      <td>1192440252406874117</td>\n      <td>4838841508</td>\n      <td>do you guys care for procreate timelapse video...</td>\n      <td>False</td>\n      <td>False</td>\n      <td>False</td>\n      <td>False</td>\n      <td>False</td>\n      <td>False</td>\n      <td>False</td>\n    </tr>\n    <tr>\n      <th>3</th>\n      <td>1192440492560179205</td>\n      <td>2491425757</td>\n      <td>Heya, gonna stream doodling for a short while\\...</td>\n      <td>True</td>\n      <td>False</td>\n      <td>True</td>\n      <td>False</td>\n      <td>False</td>\n      <td>False</td>\n      <td>False</td>\n    </tr>\n    <tr>\n      <th>4</th>\n      <td>1192440878712983552</td>\n      <td>872570861504651264</td>\n      <td>art school be like [carries around a bottle of...</td>\n      <td>False</td>\n      <td>False</td>\n      <td>False</td>\n      <td>False</td>\n      <td>False</td>\n      <td>False</td>\n      <td>False</td>\n    </tr>\n    <tr>\n      <th>...</th>\n      <td>...</td>\n      <td>...</td>\n      <td>...</td>\n      <td>...</td>\n      <td>...</td>\n      <td>...</td>\n      <td>...</td>\n      <td>...</td>\n      <td>...</td>\n      <td>...</td>\n    </tr>\n    <tr>\n      <th>398</th>\n      <td>1192956395840135168</td>\n      <td>2545886376</td>\n      <td>Opening this here for one slot! Comment to cla...</td>\n      <td>False</td>\n      <td>False</td>\n      <td>True</td>\n      <td>False</td>\n      <td>False</td>\n      <td>False</td>\n      <td>True</td>\n    </tr>\n    <tr>\n      <th>399</th>\n      <td>1192962723274989568</td>\n      <td>2996302298</td>\n      <td>My mood absolutely tanked and if I'm being hon...</td>\n      <td>False</td>\n      <td>False</td>\n      <td>False</td>\n      <td>False</td>\n      <td>False</td>\n      <td>False</td>\n      <td>False</td>\n    </tr>\n    <tr>\n      <th>400</th>\n      <td>1192964005083533312</td>\n      <td>4440276258</td>\n      <td>I'm selling copies of my book 'A Gay Ol Time' ...</td>\n      <td>True</td>\n      <td>False</td>\n      <td>True</td>\n      <td>False</td>\n      <td>False</td>\n      <td>False</td>\n      <td>False</td>\n    </tr>\n    <tr>\n      <th>401</th>\n      <td>1192976657872764928</td>\n      <td>1184335600679292928</td>\n      <td>i made a new species!!! at the moment its a cl...</td>\n      <td>False</td>\n      <td>False</td>\n      <td>True</td>\n      <td>False</td>\n      <td>False</td>\n      <td>False</td>\n      <td>True</td>\n    </tr>\n    <tr>\n      <th>402</th>\n      <td>1192981390276677638</td>\n      <td>93588998</td>\n      <td>I haven't shared the work I did for TFF 2020 y...</td>\n      <td>False</td>\n      <td>False</td>\n      <td>True</td>\n      <td>False</td>\n      <td>False</td>\n      <td>False</td>\n      <td>False</td>\n    </tr>\n  </tbody>\n</table>\n<p>403 rows × 10 columns</p>\n</div>",
      "text/plain": "                      id               author  \\\n0    1192437222953431040            483510314   \n1    1192437932365246464            504501220   \n2    1192440252406874117           4838841508   \n3    1192440492560179205           2491425757   \n4    1192440878712983552   872570861504651264   \n..                   ...                  ...   \n398  1192956395840135168           2545886376   \n399  1192962723274989568           2996302298   \n400  1192964005083533312           4440276258   \n401  1192976657872764928  1184335600679292928   \n402  1192981390276677638             93588998   \n\n                                               content has_link has_video  \\\n0    Peaceful Platypus Adopt! 😊❤️👀\\n(Includes trans...    False     False   \n1    Oh shoot there were peanuts in my dinner; look...    False     False   \n2    do you guys care for procreate timelapse video...    False     False   \n3    Heya, gonna stream doodling for a short while\\...     True     False   \n4    art school be like [carries around a bottle of...    False     False   \n..                                                 ...      ...       ...   \n398  Opening this here for one slot! Comment to cla...    False     False   \n399  My mood absolutely tanked and if I'm being hon...    False     False   \n400  I'm selling copies of my book 'A Gay Ol Time' ...     True     False   \n401  i made a new species!!! at the moment its a cl...    False     False   \n402  I haven't shared the work I did for TFF 2020 y...    False     False   \n\n    has_image is_reply is_retweet is_quote_rt notify  \n0        True    False      False       False   True  \n1       False    False      False       False  False  \n2       False    False      False       False  False  \n3        True    False      False       False  False  \n4       False    False      False       False  False  \n..        ...      ...        ...         ...    ...  \n398      True    False      False       False   True  \n399     False    False      False       False  False  \n400      True    False      False       False  False  \n401      True    False      False       False   True  \n402      True    False      False       False  False  \n\n[403 rows x 10 columns]"
     },
     "execution_count": 3,
     "metadata": {},
     "output_type": "execute_result"
    }
   ],
   "source": [
    "labelled_tweets"
   ]
  },
  {
   "cell_type": "code",
   "execution_count": 4,
   "metadata": {},
   "outputs": [
    {
     "name": "stdout",
     "output_type": "stream",
     "text": "Total Number of Tweets: 403\nNumber of notifying tweets: 37\nNotification percentage: 9.18%\n"
    }
   ],
   "source": [
    "X = labelled_tweets[['author', 'content', 'has_link', 'has_video', 'has_image']]\n",
    "y = labelled_tweets['notify']\n",
    "\n",
    "print(f\"\"\"Total Number of Tweets: {len(y)}\n",
    "Number of notifying tweets: {(y == \"True\").sum()}\n",
    "Notification percentage: {(y == \"True\").sum() / len(y) * 100:.2f}%\"\"\")"
   ]
  },
  {
   "cell_type": "code",
   "execution_count": 5,
   "metadata": {},
   "outputs": [
    {
     "data": {
      "text/plain": "0.9353063836193917"
     },
     "execution_count": 5,
     "metadata": {},
     "output_type": "execute_result"
    }
   ],
   "source": [
    "from sklearn.compose import ColumnTransformer\n",
    "from sklearn.pipeline import Pipeline\n",
    "from sklearn.preprocessing import OneHotEncoder\n",
    "from sklearn.model_selection import cross_val_score\n",
    "from sklearn.feature_extraction.text import CountVectorizer, TfidfTransformer\n",
    "from sklearn.naive_bayes import ComplementNB\n",
    "from sklearn.svm import LinearSVC\n",
    "\n",
    "categorical_features = ['author', 'has_link', 'has_video', 'has_image']\n",
    "\n",
    "text_features = 'content'\n",
    "text_transformer = Pipeline([\n",
    "        ('vect', CountVectorizer(tokenizer = tokenise, ngram_range = (1,2))),\n",
    "        ('tfidf', TfidfTransformer())\n",
    "])\n",
    "\n",
    "                               \n",
    "preprocessor = ColumnTransformer([\n",
    "        ('categories', OneHotEncoder(handle_unknown='ignore'), categorical_features),\n",
    "        ('text', text_transformer, text_features)\n",
    "])\n",
    "                                   \n",
    "clf = Pipeline([\n",
    "        ('preprocessor', preprocessor),\n",
    "        ('classifier', LinearSVC())\n",
    "])\n",
    "\n",
    "score = cross_val_score(clf, X, y, cv=5)\n",
    "clf.fit(X, y)\n",
    "score.mean()"
   ]
  },
  {
   "cell_type": "code",
   "execution_count": 6,
   "metadata": {},
   "outputs": [
    {
     "data": {
      "text/plain": "['model.joblib']"
     },
     "execution_count": 6,
     "metadata": {},
     "output_type": "execute_result"
    }
   ],
   "source": [
    "tokenise.__module__\n",
    "joblib.dump(clf, \"model.joblib\")"
   ]
  }
 ],
 "metadata": {
  "kernelspec": {
   "display_name": "Python 3",
   "language": "python",
   "name": "python3"
  },
  "language_info": {
   "codemirror_mode": {
    "name": "ipython",
    "version": 3
   },
   "file_extension": ".py",
   "mimetype": "text/x-python",
   "name": "python",
   "nbconvert_exporter": "python",
   "pygments_lexer": "ipython3",
   "version": "3.7.5"
  }
 },
 "nbformat": 4,
 "nbformat_minor": 2
}