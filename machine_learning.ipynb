{
 "cells": [
  {
   "cell_type": "code",
   "execution_count": 223,
   "metadata": {},
   "outputs": [],
   "source": [
    "# Main Imports\n",
    "import numpy as np # Arrays\n",
    "import pandas as pd # Dataframes\n",
    "import sqlite3 # SQL databases\n",
    "\n",
    "# Utilities\n",
    "import joblib\n",
    "\n",
    "# Helpers\n",
    "from helpers import tokenise"
   ]
  },
  {
   "cell_type": "code",
   "execution_count": 224,
   "metadata": {},
   "outputs": [],
   "source": [
    "conn = sqlite3.connect(\"tweets.db\")\n",
    "labelled_tweets = pd.read_sql_query(\"SELECT * FROM tweets WHERE notify IS NOT NULL\", conn)\n",
    "conn.close()"
   ]
  },
  {
   "cell_type": "code",
   "execution_count": 225,
   "metadata": {},
   "outputs": [
    {
     "name": "stdout",
     "output_type": "stream",
     "text": "Total Number of Tweets: 952\nNumber of notifying tweets: 104\nNotification percentage: 10.92%\n"
    }
   ],
   "source": [
    "X = labelled_tweets[['author', 'content', 'has_link', 'has_video', 'has_image']]\n",
    "y = labelled_tweets['notify']\n",
    "\n",
    "print(f\"\"\"Total Number of Tweets: {len(y)}\n",
    "Number of notifying tweets: {(y == \"True\").sum()}\n",
    "Notification percentage: {(y == \"True\").sum() / len(y) * 100:.2f}%\"\"\")"
   ]
  },
  {
   "cell_type": "code",
   "execution_count": 228,
   "metadata": {},
   "outputs": [
    {
     "name": "stdout",
     "output_type": "stream",
     "text": "Score: 0.95\n"
    }
   ],
   "source": [
    "from sklearn.compose import ColumnTransformer\n",
    "from sklearn.pipeline import Pipeline\n",
    "from sklearn.preprocessing import OneHotEncoder\n",
    "from sklearn.model_selection import cross_val_score, cross_val_predict\n",
    "from sklearn.feature_extraction.text import CountVectorizer, TfidfTransformer\n",
    "from sklearn.naive_bayes import ComplementNB\n",
    "from sklearn.svm import LinearSVC\n",
    "\n",
    "categorical_features = ['author', 'has_link', 'has_video', 'has_image']\n",
    "\n",
    "text_features = 'content'\n",
    "text_transformer = Pipeline([\n",
    "        ('vect', CountVectorizer(tokenizer = tokenise, ngram_range = (1,2))),\n",
    "        ('tfidf', TfidfTransformer())\n",
    "])\n",
    "\n",
    "                               \n",
    "preprocessor = ColumnTransformer([\n",
    "        ('categories', OneHotEncoder(handle_unknown='ignore'), categorical_features),\n",
    "        ('text', text_transformer, text_features)\n",
    "])\n",
    "                                   \n",
    "clf = Pipeline([\n",
    "        ('preprocessor', preprocessor),\n",
    "        ('classifier', LinearSVC(class_weight='balanced'))\n",
    "])\n",
    "\n",
    "score = cross_val_score(clf, X, y, cv=20)\n",
    "print(f\"Score: {score.mean():.2f}\")\n",
    "predicted_scores = cross_val_predict(clf, X, y, cv=20, method=\"decision_function\")\n",
    "correctness_scores = ((((y == 'True') * 2) - 1) * predicted_scores)\n",
    "\n",
    "\n",
    "clf.fit(X, y)\n",
    "None"
   ]
  },
  {
   "cell_type": "code",
   "execution_count": 229,
   "metadata": {},
   "outputs": [
    {
     "data": {
      "text/plain": "['model.joblib']"
     },
     "execution_count": 229,
     "metadata": {},
     "output_type": "execute_result"
    }
   ],
   "source": [
    "tokenise.__module__\n",
    "joblib.dump(clf, \"model.joblib\")"
   ]
  },
  {
   "cell_type": "code",
   "execution_count": 230,
   "metadata": {},
   "outputs": [],
   "source": [
    "correctness_scores # Will be positive if correct and negative if wrong\n",
    "ordered_tweet_indexes = np.argsort(correctness_scores)\n",
    "i = 0"
   ]
  },
  {
   "cell_type": "code",
   "execution_count": 241,
   "metadata": {},
   "outputs": [
    {
     "name": "stdout",
     "output_type": "stream",
     "text": "Id:      1193598695872385025\nContent: Halloween is over so these are now $5 off! From $15 to $10! \n\nGet this large 8 1/2 x 12 print now before they’re gone for good! https://t.co/quBh0IyusG\nLabel:   False\nScore:   0.5649532223569064\n"
    }
   ],
   "source": [
    "index = ordered_tweet_indexes[i]\n",
    "print(f\"Id:      {labelled_tweets.loc[index].id}\")\n",
    "print(f\"Content: {labelled_tweets.loc[index].content}\")\n",
    "print(f\"Label:   {y[index]}\")\n",
    "print(f\"Score:   {predicted_scores[index]}\")\n",
    "i += 1"
   ]
  },
  {
   "cell_type": "code",
   "execution_count": null,
   "metadata": {},
   "outputs": [],
   "source": []
  },
  {
   "cell_type": "code",
   "execution_count": 180,
   "metadata": {},
   "outputs": [],
   "source": [
    "from helpers import label_tweet\n",
    "label_tweet('1193740240688689152', 'cb_True')"
   ]
  }
 ],
 "metadata": {
  "kernelspec": {
   "display_name": "Python 3",
   "language": "python",
   "name": "python3"
  },
  "language_info": {
   "codemirror_mode": {
    "name": "ipython",
    "version": 3
   },
   "file_extension": ".py",
   "mimetype": "text/x-python",
   "name": "python",
   "nbconvert_exporter": "python",
   "pygments_lexer": "ipython3",
   "version": "3.7.5"
  }
 },
 "nbformat": 4,
 "nbformat_minor": 2
}