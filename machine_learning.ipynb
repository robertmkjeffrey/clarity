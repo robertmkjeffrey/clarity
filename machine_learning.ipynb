{
 "cells": [
  {
   "cell_type": "code",
   "execution_count": 1,
   "metadata": {},
   "outputs": [],
   "source": [
    "# Main Imports\n",
    "import numpy as np # Arrays\n",
    "import pandas as pd # Dataframes\n",
    "import sqlite3 # SQL databases\n",
    "\n",
    "# Utilities\n",
    "import joblib\n",
    "\n",
    "# Helpers\n",
    "from helpers import tokenise"
   ]
  },
  {
   "cell_type": "code",
   "execution_count": 2,
   "metadata": {},
   "outputs": [],
   "source": [
    "conn = sqlite3.connect(\"tweets.db\")\n",
    "labelled_tweets = pd.read_sql_query(\"SELECT * FROM tweets WHERE notify IS NOT NULL\", conn)\n",
    "conn.close()"
   ]
  },
  {
   "cell_type": "code",
   "execution_count": 3,
   "metadata": {},
   "outputs": [
    {
     "name": "stdout",
     "output_type": "stream",
     "text": "Total Number of Tweets: 672\nNumber of notifying tweets: 69\nNotification percentage: 10.27%\n"
    }
   ],
   "source": [
    "X = labelled_tweets[['author', 'content', 'has_link', 'has_video', 'has_image']]\n",
    "y = labelled_tweets['notify']\n",
    "\n",
    "print(f\"\"\"Total Number of Tweets: {len(y)}\n",
    "Number of notifying tweets: {(y == \"True\").sum()}\n",
    "Notification percentage: {(y == \"True\").sum() / len(y) * 100:.2f}%\"\"\")"
   ]
  },
  {
   "cell_type": "code",
   "execution_count": 4,
   "metadata": {},
   "outputs": [
    {
     "data": {
      "text/plain": "0.94341475579496"
     },
     "execution_count": 4,
     "metadata": {},
     "output_type": "execute_result"
    }
   ],
   "source": [
    "from sklearn.compose import ColumnTransformer\n",
    "from sklearn.pipeline import Pipeline\n",
    "from sklearn.preprocessing import OneHotEncoder\n",
    "from sklearn.model_selection import cross_val_score\n",
    "from sklearn.feature_extraction.text import CountVectorizer, TfidfTransformer\n",
    "from sklearn.naive_bayes import ComplementNB\n",
    "from sklearn.svm import LinearSVC\n",
    "\n",
    "categorical_features = ['author', 'has_link', 'has_video', 'has_image']\n",
    "\n",
    "text_features = 'content'\n",
    "text_transformer = Pipeline([\n",
    "        ('vect', CountVectorizer(tokenizer = tokenise, ngram_range = (1,2))),\n",
    "        ('tfidf', TfidfTransformer())\n",
    "])\n",
    "\n",
    "                               \n",
    "preprocessor = ColumnTransformer([\n",
    "        ('categories', OneHotEncoder(handle_unknown='ignore'), categorical_features),\n",
    "        ('text', text_transformer, text_features)\n",
    "])\n",
    "                                   \n",
    "clf = Pipeline([\n",
    "        ('preprocessor', preprocessor),\n",
    "        ('classifier', LinearSVC())\n",
    "])\n",
    "\n",
    "score = cross_val_score(clf, X, y, cv=5)\n",
    "clf.fit(X, y)\n",
    "score.mean()"
   ]
  },
  {
   "cell_type": "code",
   "execution_count": 5,
   "metadata": {},
   "outputs": [
    {
     "data": {
      "text/plain": "['model.joblib']"
     },
     "execution_count": 5,
     "metadata": {},
     "output_type": "execute_result"
    }
   ],
   "source": [
    "tokenise.__module__\n",
    "joblib.dump(clf, \"model.joblib\")"
   ]
  },
  {
   "cell_type": "code",
   "execution_count": 10,
   "metadata": {},
   "outputs": [
    {
     "data": {
      "text/plain": "array([0.49718659])"
     },
     "execution_count": 10,
     "metadata": {},
     "output_type": "execute_result"
    }
   ],
   "source": [
    "conn = sqlite3.connect('tweets.db')\n",
    "tweet = pd.read_sql_query(\"SELECT * FROM tweets WHERE id = '1192990447209086976'\", conn)\n",
    "conn.close\n",
    "clf.decision_function(tweet)"
   ]
  }
 ],
 "metadata": {
  "kernelspec": {
   "display_name": "Python 3",
   "language": "python",
   "name": "python3"
  },
  "language_info": {
   "codemirror_mode": {
    "name": "ipython",
    "version": 3
   },
   "file_extension": ".py",
   "mimetype": "text/x-python",
   "name": "python",
   "nbconvert_exporter": "python",
   "pygments_lexer": "ipython3",
   "version": "3.7.5"
  }
 },
 "nbformat": 4,
 "nbformat_minor": 2
}