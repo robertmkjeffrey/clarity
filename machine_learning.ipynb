{
 "cells": [
  {
   "cell_type": "code",
   "execution_count": 1,
   "metadata": {},
   "outputs": [],
   "source": [
    "# Main Imports\n",
    "import numpy as np # Arrays\n",
    "import pandas as pd # Dataframes\n",
    "import sqlite3 # SQL databases\n",
    "\n",
    "# Utilities\n",
    "import joblib\n",
    "\n",
    "# Helpers\n",
    "from helpers import tokenize, preprocess"
   ]
  },
  {
   "cell_type": "code",
   "execution_count": 2,
   "metadata": {},
   "outputs": [],
   "source": [
    "conn = sqlite3.connect(\"tweets.db\")\n",
    "labelled_tweets = pd.read_sql_query(\"SELECT * FROM tweets WHERE notify IS NOT NULL\", conn)\n",
    "conn.close()"
   ]
  },
  {
   "cell_type": "code",
   "execution_count": 3,
   "metadata": {},
   "outputs": [
    {
     "name": "stdout",
     "output_type": "stream",
     "text": "Total Number of Tweets: 1820\nNumber of notifying tweets: 355\nNotification percentage: 19.51%\n"
    }
   ],
   "source": [
    "X = labelled_tweets[['author', 'content', 'has_link', 'has_video', 'has_image']]\n",
    "y = labelled_tweets['notify']\n",
    "\n",
    "print(f\"\"\"Total Number of Tweets: {len(y)}\n",
    "Number of notifying tweets: {(y == \"True\").sum()}\n",
    "Notification percentage: {(y == \"True\").sum() / len(y) * 100:.2f}%\"\"\")"
   ]
  },
  {
   "cell_type": "code",
   "execution_count": 4,
   "metadata": {},
   "outputs": [
    {
     "name": "stdout",
     "output_type": "stream",
     "text": "Score: 0.94\n"
    }
   ],
   "source": [
    "from sklearn.compose import ColumnTransformer\n",
    "from sklearn.pipeline import Pipeline\n",
    "from sklearn.preprocessing import OneHotEncoder\n",
    "from sklearn.model_selection import cross_val_score, cross_val_predict\n",
    "from sklearn.feature_extraction.text import CountVectorizer, TfidfTransformer\n",
    "from sklearn.naive_bayes import ComplementNB\n",
    "from sklearn.svm import LinearSVC\n",
    "\n",
    "# categorical_features = ['author', 'has_link', 'has_video', 'has_image']\n",
    "categorical_features = ['has_link', 'has_video', 'has_image']\n",
    "\n",
    "text_features = 'content'\n",
    "text_transformer = Pipeline([\n",
    "        ('vect', CountVectorizer(preprocessor=preprocess, tokenizer=tokenize, ngram_range = (1,2))),\n",
    "        ('tfidf', TfidfTransformer())\n",
    "])\n",
    "\n",
    "                               \n",
    "preprocessor = ColumnTransformer([\n",
    "        ('categories', OneHotEncoder(handle_unknown='ignore'), categorical_features),\n",
    "        ('text', text_transformer, text_features)\n",
    "])\n",
    "                                   \n",
    "clf = Pipeline([\n",
    "        ('preprocessor', preprocessor),\n",
    "        ('classifier', LinearSVC(class_weight='balanced'))\n",
    "])\n",
    "\n",
    "score = cross_val_score(clf, X, y, cv=20)\n",
    "print(f\"Score: {score.mean():.2f}\")\n",
    "\n",
    "\n",
    "clf.fit(X, y)\n",
    "None"
   ]
  },
  {
   "cell_type": "code",
   "execution_count": 5,
   "metadata": {},
   "outputs": [
    {
     "data": {
      "text/plain": "['model.joblib']"
     },
     "execution_count": 5,
     "metadata": {},
     "output_type": "execute_result"
    }
   ],
   "source": [
    "joblib.dump(clf, \"model.joblib\")"
   ]
  },
  {
   "cell_type": "code",
   "execution_count": 6,
   "metadata": {},
   "outputs": [],
   "source": [
    "predicted_scores = cross_val_predict(clf, X, y, cv=20, method=\"decision_function\")\n",
    "correctness_scores = ((((y == 'True') * 2) - 1) * predicted_scores)\n",
    "correctness_scores # Will be positive if correct and negative if wrong\n",
    "ordered_tweet_indexes = np.argsort(correctness_scores)\n",
    "i = 0"
   ]
  },
  {
   "cell_type": "code",
   "execution_count": 108,
   "metadata": {},
   "outputs": [
    {
     "name": "stdout",
     "output_type": "stream",
     "text": "Id:      1192939808873730048\nContent: Bit of a long shot, but bills got me all kinds of stressed so would anyone be interested in buying this nasty boy? 🤔Would include the full body and two portraits flat colored, w/ and w/o clothes, and all the sketches would be yours to keep as well for $150. https://t.co/EmnP3YU7EB\nLabel:   True\nScore:   -0.04535574392530267\n"
    }
   ],
   "source": [
    "index = ordered_tweet_indexes[i]\n",
    "print(f\"Id:      {labelled_tweets.loc[index].id}\")\n",
    "print(f\"Content: {labelled_tweets.loc[index].content}\")\n",
    "print(f\"Label:   {y[index]}\")\n",
    "print(f\"Score:   {predicted_scores[index]}\")\n",
    "i += 1"
   ]
  },
  {
   "cell_type": "code",
   "execution_count": null,
   "metadata": {},
   "outputs": [],
   "source": []
  },
  {
   "cell_type": "code",
   "execution_count": 100,
   "metadata": {},
   "outputs": [],
   "source": [
    "from helpers import label_tweet\n",
    "label_tweet('1195171698255048704', 'cb_False')"
   ]
  }
 ],
 "metadata": {
  "kernelspec": {
   "display_name": "Python 3",
   "language": "python",
   "name": "python3"
  },
  "language_info": {
   "codemirror_mode": {
    "name": "ipython",
    "version": 3
   },
   "file_extension": ".py",
   "mimetype": "text/x-python",
   "name": "python",
   "nbconvert_exporter": "python",
   "pygments_lexer": "ipython3",
   "version": "3.7.5"
  }
 },
 "nbformat": 4,
 "nbformat_minor": 2
}